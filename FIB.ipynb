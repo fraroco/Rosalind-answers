{
 "cells": [
  {
   "cell_type": "code",
   "execution_count": 12,
   "metadata": {},
   "outputs": [],
   "source": [
    "def fib (n, k):\n",
    "    fib = []\n",
    "    for i in range(int(0), n):\n",
    "        if i < 2:\n",
    "            fib.append(1)\n",
    "        else:\n",
    "            fib.append(fib[i-2]*k + fib[i-1])\n",
    "\n",
    "    return fib[-1]\n",
    "\n"
   ]
  },
  {
   "cell_type": "code",
   "execution_count": 13,
   "metadata": {},
   "outputs": [
    {
     "name": "stdout",
     "output_type": "stream",
     "text": [
      "5164501096416\n"
     ]
    }
   ],
   "source": [
    "with open('fib', 'r') as f:\n",
    "    n, k = f.readline().split()\n",
    "    print (fib(int(n), int(k)))"
   ]
  },
  {
   "cell_type": "code",
   "execution_count": null,
   "metadata": {},
   "outputs": [],
   "source": []
  }
 ],
 "metadata": {
  "kernelspec": {
   "display_name": "Python 3",
   "language": "python",
   "name": "python3"
  },
  "language_info": {
   "codemirror_mode": {
    "name": "ipython",
    "version": 3
   },
   "file_extension": ".py",
   "mimetype": "text/x-python",
   "name": "python",
   "nbconvert_exporter": "python",
   "pygments_lexer": "ipython3",
   "version": "3.7.0"
  }
 },
 "nbformat": 4,
 "nbformat_minor": 2
}
