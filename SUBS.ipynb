{
 "cells": [
  {
   "cell_type": "code",
   "execution_count": 11,
   "metadata": {},
   "outputs": [
    {
     "name": "stdout",
     "output_type": "stream",
     "text": [
      "2 18 78 112 158 165 184 192 234 250 257 264 289 409 471 508 536 605 612 642 649 668 701 741 753 760 783 840 847 924\n"
     ]
    }
   ],
   "source": [
    "def locations(s_and_t):\n",
    "    results = []\n",
    "\n",
    "    s, t = s_and_t.split()\n",
    "    l = len(t)\n",
    "\n",
    "    for i in range(len(s) - l):\n",
    "        if s[i:i+l] == t:\n",
    "            results.append(i + 1)\n",
    "\n",
    "    return results\n",
    "\n",
    "\n",
    "if __name__ == \"__main__\":\n",
    "\n",
    "    small_dataset = \"ACGTACGTACGTACGT\\nGTA\"\n",
    "    large_dataset = open('/home/fraroco/MEGA/Rosalind/input.txt').read()\n",
    "\n",
    "    results = locations(large_dataset)\n",
    "\n",
    "    print(' '.join(map(str, results)))\n"
   ]
  },
  {
   "cell_type": "code",
   "execution_count": null,
   "metadata": {},
   "outputs": [],
   "source": []
  },
  {
   "cell_type": "code",
   "execution_count": null,
   "metadata": {},
   "outputs": [],
   "source": []
  },
  {
   "cell_type": "code",
   "execution_count": null,
   "metadata": {},
   "outputs": [],
   "source": []
  }
 ],
 "metadata": {
  "kernelspec": {
   "display_name": "Python 3",
   "language": "python",
   "name": "python3"
  },
  "language_info": {
   "codemirror_mode": {
    "name": "ipython",
    "version": 3
   },
   "file_extension": ".py",
   "mimetype": "text/x-python",
   "name": "python",
   "nbconvert_exporter": "python",
   "pygments_lexer": "ipython3",
   "version": "3.7.0"
  }
 },
 "nbformat": 4,
 "nbformat_minor": 2
}
