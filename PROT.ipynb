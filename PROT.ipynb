{
 "cells": [
  {
   "cell_type": "code",
   "execution_count": 28,
   "metadata": {
    "scrolled": true
   },
   "outputs": [
    {
     "name": "stdout",
     "output_type": "stream",
     "text": [
      "MIPAKGFRAVKPELRPHNTQRSNRLRGLESRDPFKISKRSSLELELHLISGWRWNFLSYTTTRYRRGPGHLRGYIKRKHRTSVFAVNVGIHRPLHHQRLTLWQIDCLWLDPVAPAGIVYHYTSSTNGETPASYPTGTARSTGVGADLVSRWGPAGHGSNDASGVPQAHRMAKGCLPSLIRGVLPDRPAMTPSVGAIRGMLLNFLGPFVCRLSACRTLDEGINTIGLSSLQPSRRGYFLLTYRRDQAITPCSPVYRGHPCSVFLIFVINPFSYRSRQMCAASAQEGHRKHRNSPVTKITNDGFTGGLDMSIVGSREWTLVEPWPCFRQGHPIIISVINQFRLKLATYGITKKVRRLRKIGIWCNVRGVAGFHAWRRSFRSPFEDGDGVRSISGTGNMSRAVSLSIVPKWPHAPTTRCQYIEALLPPYSLHSNNRFSGRRRTRSQVTAPEFFLCTTCVRTFNSLWTSVNYNSIRDPDFPPVCVSGKGSRGRKSGLSRPHRGSVIHGAMVSRYALGPRKQPSSSSRTDPNVVVYSCSLNKGLFRTTSSPNNALKVPKTVDRCALNVDDTTCRASTISSTRSAISPVRSRRAHESDATLRDRHGYSIYILKILRLRLVRSLSPNIGTYRRHYKVPIWRCFFWRTCLFSLEVLAARSTCLYPIPKYGSIRNNISITCIASYVESQRVVKHAYTWIGTSRKEIGVILAKLTCHETRLTTANDWSKSANRFTYNATTCRCALVVTLTTYRDLVAGRPHDSEGSELFLPALLGIIRYMRGRSLTHVHSVEEKLGQRVPAPARLHYVRIHVDAKCGVGASTLELSRCFKFDVRGVKTLAALNTPQLALRSTGSTYCSCQRRLGASAEEASAAAITKLYFCIGRHTLRIPDSVSLTTRKNIPSFLTDAHTRCSSLAWGTVDTEGVQYFEPILVDDHSEILAILHYLLDVQSSPARVKGDTLRAISATLASTYTLTAFVASSIIARYSYHMLRPSASKSFNRNGPQKVVLTSQQQSLPISSSSFRPFPEGYVLVRGKDEGSPHHDRCSRTLSVVYKLVDYEHHVVRLGYDLFSHRSELFDDKFHLMQRLRPSSVKSKPSFDPRLRPLQGVQGFPTKPVYVCVYGVGTCPNIVNRSLCDHSITKAVDGGCPLIYDAAGHACLSQDPVPLVRLERLKVYTHGLSMHGSDSGLVYRILSLSRGCIFPDYSNLPDLSLTTNAWCYYLDLASDQPTRCRRELIALTRYHYSIHVQEFHSRILCVVPSHLSVQTWRLDAFGYLQVLLMEHLEVPLLRPGLNDLAIRTAADNVSGLHPQEKRAPGHFKYVSVEVFRDQQVKAFWWRSPHVHPRRDKVPCSRSVCVQQVRNQGLPKEGLDQDLRLRIRFHGFQTLRTSAGVIISQAGIVSIGPPAGRFWNPEFISPFIVSTGHSWSSFFYLLRLRMNPPRSDQATASDQLYRRLFSASLYFEILSRGYNLKWNRSDWMLPLSNRSSRSVIYPPVATHIGPREHPSHKLGGDLNSTSCSRVSYKFMPGNTYTPLTKPATPHMPVRTQLSHLRAFIFQLLRWGSGICTSACNRLSANAPDSASNCREYVKTKTVQDCLTHKHLDPAGPKNHVVCQDPSAGFSFRGTISWPHRPGDVTDTNYTIRHEFCQLEVRALVGKWGQNRPILRLGVMSGFSGSSYTFGRPATSGTSSAHMCGNGLTQARTKDLERYSTAGDRTLQQNAKWEALVVLTFGEPLSPRYDMIFRGTLSIGLLYPLTLFEMLHIKSMETDSKLTLAKSMWAYAVKTSREVGLTDVLYSTCHGLPGKPFILSEGTTRAPGTRGNYEYGRKIFESMPRKRNLSGNDAVNFGQRTTLVACRSTKGLSFERQLWPGGAISKKWFGSCLVAPSIASGGTYFNTPVMSPHFIQLPDRHLAAISDTDGRQRLLIDLRDVRKYNRRSVLSHILSSMVTPLGDRRVTRNSVGMFDTPYSLKDYVQDGSLMRLRLQSLVEGNCITQNTLLQARIHRRQNDTGIFTPRLSLHVALTLAYKSAQVRQDLQMKPYDGPAMLKFAVDRTCSLPVASNHHHRFRIPFTVVRSQSSLLELSDCAPRGHATNRCIAHSAAVPRLQIKIDFNQTVSQVNLPLSKLRQRGLLGCPPYHALGGCIRSGASIHGVCPLTSLSGGAVPLRLTPYRTCEADNSVSRGLIPLYPDTLAIEFAIPYQCRARFVTAVSRGATYVTIGHATYFYASLGRSWRSSCTRKVPPLERCHIAKGITCGCSLRSALLGLSCVKVASSQVALRLEPYRALRKLFRGFRLSNRGPLQAINLGAGGSITPGQPGNRWATASLNHTWGAPTPVSARSTHDESPSTRRSWNNIVIECLIHIVCHRAESVKRRIYRLNRPLMIIPSCFIVLIATRVTDEYVRHSCYSAQKGVACPPSRACESSPSRHTQDSGTIKTDGPRECCCSIGTVALNNFDQFRNNQERCPVLTRSISMEYRYRLSTTRRAMVTYVSYRKHLGIKGQTPFQHLTGTSFCGADRISCEAKNSFPGRRFIRYSFNRYPLVSLALECHIKSTEVTVKAFRTEQVHESFHLRPVEDNNTRYPSTGHDRMVRITTFLSLGRALVRKAKSRTGPLARRKKQAVPALYHGPLYRTGFGRGLYSSIYCTHKLIGYCVRGGTMVLHTCLIEKSHNQASETSGGDLAPAGLTEVKNVSRMATAHSPHNDKNYIPFILAIALSWRVPANHEDPAVRSLVAYFRNEATAFLKECTKSVGRCVLPCLSLQSLQADMRSTPTVRPLLRLDLVHSRIVSRNQRKWPLPLFRSTPQNLGVPLYVSLWIGLRGRS\n"
     ]
    }
   ],
   "source": [
    "RNA_CODON_TABLE = {\n",
    "    'UUU': 'F',     'CUU': 'L',     'AUU': 'I',     'GUU': 'V',\n",
    "    'UUC': 'F',     'CUC': 'L',     'AUC': 'I',     'GUC': 'V',\n",
    "    'UUA': 'L',     'CUA': 'L',     'AUA': 'I',     'GUA': 'V',\n",
    "    'UUG': 'L',     'CUG': 'L',     'AUG': 'M',     'GUG': 'V',\n",
    "    'UCU': 'S',     'CCU': 'P',     'ACU': 'T',     'GCU': 'A',\n",
    "    'UCC': 'S',     'CCC': 'P',     'ACC': 'T',     'GCC': 'A',\n",
    "    'UCA': 'S',     'CCA': 'P',     'ACA': 'T',     'GCA': 'A',\n",
    "    'UCG': 'S',     'CCG': 'P',     'ACG': 'T',     'GCG': 'A',\n",
    "    'UAU': 'Y',     'CAU': 'H',     'AAU': 'N',     'GAU': 'D',\n",
    "    'UAC': 'Y',     'CAC': 'H',     'AAC': 'N',     'GAC': 'D',\n",
    "    'UAA': 'Stop',  'CAA': 'Q',     'AAA': 'K',     'GAA': 'E',\n",
    "    'UAG': 'Stop',  'CAG': 'Q',     'AAG': 'K',     'GAG': 'E',\n",
    "    'UGU': 'C',     'CGU': 'R',     'AGU': 'S',     'GGU': 'G',\n",
    "    'UGC': 'C',     'CGC': 'R',     'AGC': 'S',     'GGC': 'G',\n",
    "    'UGA': 'Stop',  'CGA': 'R',     'AGA': 'R',     'GGA': 'G',\n",
    "    'UGG': 'W',     'CGG': 'R',     'AGG': 'R',     'GGG': 'G'\n",
    "}\n",
    "\n",
    "\n",
    "def protein_string(mrna):\n",
    "    result = ''\n",
    "\n",
    "    for i in range(0, len(mrna), 3):\n",
    "        symbol = RNA_CODON_TABLE[mrna[i:i+3]]\n",
    "        if symbol == 'Stop':\n",
    "            break\n",
    "        result += symbol\n",
    "\n",
    "    return result\n",
    "\n",
    "\n",
    "if __name__ == \"__main__\":\n",
    "\n",
    "    small_dataset = \"AUGGCCAUGGCGCCCAGAACUGAGAUCAAUAGUACCCGUAUUAACGGGUGA\"\n",
    "    large_dataset = open('/home/fraroco/MEGA/Rosalind/rosalind_prot.txt').read()\n",
    "\n",
    "print (protein_string(large_dataset))"
   ]
  },
  {
   "cell_type": "code",
   "execution_count": 9,
   "metadata": {},
   "outputs": [],
   "source": []
  },
  {
   "cell_type": "code",
   "execution_count": 10,
   "metadata": {},
   "outputs": [],
   "source": []
  },
  {
   "cell_type": "code",
   "execution_count": 16,
   "metadata": {},
   "outputs": [
    {
     "ename": "IndexError",
     "evalue": "list index out of range",
     "output_type": "error",
     "traceback": [
      "\u001b[0;31m---------------------------------------------------------------------------\u001b[0m",
      "\u001b[0;31mIndexError\u001b[0m                                Traceback (most recent call last)",
      "\u001b[0;32m<ipython-input-16-4fdf386b6f51>\u001b[0m in \u001b[0;36m<module>\u001b[0;34m()\u001b[0m\n\u001b[0;32m----> 1\u001b[0;31m \u001b[0mDNA\u001b[0m\u001b[0;34m=\u001b[0m\u001b[0mdata\u001b[0m\u001b[0;34m[\u001b[0m\u001b[0;36m1\u001b[0m\u001b[0;34m]\u001b[0m\u001b[0;34m\u001b[0m\u001b[0m\n\u001b[0m\u001b[1;32m      2\u001b[0m \u001b[0mflag\u001b[0m \u001b[0;34m=\u001b[0m \u001b[0;36m1\u001b[0m\u001b[0;34m\u001b[0m\u001b[0m\n",
      "\u001b[0;31mIndexError\u001b[0m: list index out of range"
     ]
    }
   ],
   "source": []
  },
  {
   "cell_type": "code",
   "execution_count": null,
   "metadata": {},
   "outputs": [],
   "source": []
  },
  {
   "cell_type": "code",
   "execution_count": null,
   "metadata": {},
   "outputs": [],
   "source": []
  },
  {
   "cell_type": "code",
   "execution_count": null,
   "metadata": {},
   "outputs": [],
   "source": []
  }
 ],
 "metadata": {
  "kernelspec": {
   "display_name": "Python 3",
   "language": "python",
   "name": "python3"
  },
  "language_info": {
   "codemirror_mode": {
    "name": "ipython",
    "version": 3
   },
   "file_extension": ".py",
   "mimetype": "text/x-python",
   "name": "python",
   "nbconvert_exporter": "python",
   "pygments_lexer": "ipython3",
   "version": "3.7.0"
  }
 },
 "nbformat": 4,
 "nbformat_minor": 2
}
