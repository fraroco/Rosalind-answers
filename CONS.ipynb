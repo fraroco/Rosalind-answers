{
 "cells": [
  {
   "cell_type": "code",
   "execution_count": 4,
   "metadata": {
    "scrolled": true
   },
   "outputs": [
    {
     "name": "stdout",
     "output_type": "stream",
     "text": [
      "ACAGAGCGGGAATTCGGATCCGCGGCCAGGGCTATACATCGAGGATAACATTATGCAGGTCTCTTGGAAACACTACTGCTGAAAATCAGATGAAGGCACCGCCTTAGATGAGAGCGGTAAAACAGAAGCGAAAATACATATCAGCGTAACAGAGATTGTAAAAACGCCAATCAGCAGACTCCAAACGACATACACACAAAGAAAACAAAAAGACTGGCAGGTAAACCCACTTCCTTAGCGTGGGCCGTAACCGCCGGGAACAAACTGAGCAATCAAACCCCTCTCCCAACAAGTGGAGTTAAGGATTAATAAGAGACAGGGCGGACGCAGGAACATAAGACAGCCAAACAAGTCAGAACTTAACGAAGCATGCCTAAATGCGCCCTTCAAGCTAATCGGGCAGCAAAGTGTCGCACGATGGATACAAGACCGGACCTCTACAAATCCTCCTCCGACCATGCCTTGCAAAGACCTAAGAATTAGCAGCCACAGAAAGACCGTTCTACGTCTCATCTCAAAACCCCACGGGTAGGACCTGTCCTCACTTGAACCCGTCCTGATACGAGACCTACATTGTTCCACTATTGGAGCCAAAATGTAATACGTATTGCATATTGCCGATACGCCAACAAATTAAACGGACAACTAGTGCCATGAAACACGTTACGAACCAATAGTAGCGGGAGGCACTCGTCACACCGTCCTGTCTGAATTTTTACGCTACCAGCATAGAACCATGATAACAGTATGCTATCTTCCAACGATAGAGTGGCTCCCCCGACCCCCAGCTAGAAGGGCCCAGTATACGAAAACATCAGTAGACCCCTGAGCGGAGTGGACATTCAGTTTCAAGGCTGGAAAACGTAACAACGGAGATACAAGAAATCCCCCCGCTAGATAAAGTGCAAAACGAGAGT\n",
      "A: 4 1 4 2 5 2 2 2 2 1 6 4 0 2 2 2 3 5 2 2 1 0 1 3 2 2 3 5 1 2 1 2 3 4 1 6 2 3 3 1 2 5 3 3 3 3 3 5 2 3 2 1 4 0 2 1 4 0 1 3 3 0 2 2 1 3 2 4 4 4 2 3 1 3 4 0 2 3 2 2 3 5 4 4 5 2 2 4 2 4 4 2 5 5 0 2 2 3 1 0 1 0 2 1 0 4 3 3 3 1 4 2 3 1 0 1 3 1 3 3 3 4 3 3 1 4 5 2 1 3 4 3 4 3 3 3 3 4 1 4 2 1 4 3 2 2 2 4 5 1 4 2 3 3 5 1 1 3 2 7 3 3 4 4 2 1 2 1 7 3 0 1 3 0 2 5 2 3 3 3 3 2 4 4 3 1 1 4 2 4 3 7 1 4 1 6 2 3 4 4 2 3 3 5 3 0 4 5 4 4 3 0 4 2 1 2 1 2 5 2 1 2 4 3 3 1 2 1 4 2 0 1 1 2 2 3 5 1 1 1 3 2 2 1 2 4 2 1 4 4 2 0 1 2 3 2 2 1 4 3 0 3 3 6 2 3 1 4 1 1 4 4 2 3 5 5 3 1 2 2 2 2 2 3 2 3 2 3 4 3 5 3 2 1 2 2 5 3 3 0 4 4 1 0 4 2 2 4 3 1 3 4 2 4 1 4 2 4 3 1 2 1 1 3 4 1 2 1 3 2 4 3 5 3 3 3 3 3 2 3 2 4 3 2 2 3 4 5 3 3 4 3 2 2 5 0 6 5 2 2 2 4 4 1 3 4 4 1 1 5 2 2 0 1 3 5 3 5 2 3 1 2 1 2 1 2 2 1 4 3 2 4 1 4 3 2 3 0 3 1 2 3 3 3 4 4 4 4 1 1 2 1 4 2 5 2 3 3 1 2 2 4 3 4 0 3 3 3 3 2 2 0 1 5 1 2 0 3 2 4 3 5 7 4 3 1 2 4 1 2 3 2 3 3 3 0 2 3 2 3 1 3 2 1 2 1 4 3 3 1 3 2 1 3 3 3 2 3 3 2 3 4 2 2 3 3 1 2 4 1 4 2 5 4 5 2 3 3 1 2 2 1 1 3 3 3 3 1 1 2 2 4 3 2 1 3 3 4 4 6 1 2 2 1 4 1 3 2 2 3 7 1 3 5 3 2 4 3 2 1 3 3 4 3 3 2 0 2 3 5 2 1 2 2 1 3 2 2 1 3 1 3 2 2 3 1 3 2 3 1 3 3 3 1 0 2 1 0 0 2 4 2 1 4 2 3 2 4 3 1 1 0 6 4 3 4 1 1 2 4 3 1 4 1 2 2 4 3 2 3 3 4 1 4 2 1 1 2 2 1 4 2 4 3 1 3 2 3 4 0 3 4 3 2 1 3 3 4 2 3 3 4 2 3 5 2 2 4 2 1 3 2 2 4 1 4 4 4 4 1 5 3 0 2 3 5 3 1 3 4 1 1 4 3 3 4 1 2 3 3 3 1 2 2 3 2 2 2 4 2 2 2 2 2 2 3 1 4 1 3 2 1 1 3 3 3 0 1 2 2 4 3 0 1 2 2 1 3 3 3 2 3 3 2 2 4 2 1 4 2 3 2 4 6 2 1 3 1 1 3 2 5 3 2 5 1 2 4 1 1 1 1 5 0 1 3 3 2 1 3 4 0 2 3 2 4 1 3 2 3 1 1 2 1 2 1 2 1 3 3 4 1 1 2 2 1 4 2 2 1 3 2 4 4 3 0 2 2 2 2 4 1 2 4 2 5 2 2 4 3 3 3 2 3 3 2 3 2 2 4 3 4 1 1 1 2 2 1 4 2 2 1 2 3 2 2 0 4 3 0 4 2 1 2 6 1 0 1 1 2 4 3 2 3 1 3 2 3 4 3 4 5 1 3 0 4 6 1 3 5 3 1 1 3 2 4 3 5 2 3 3 3 4 4 3 2 3 0 3 1 1 2 1 1 1 4 2 4 2 6 4 3 2 3 2 1 3 4 3 3 2 0 5 2 3 2 3\n",
      "C: 1 6 1 2 3 1 5 3 2 1 2 4 3 2 4 2 0 3 3 4 4 3 5 1 2 4 4 2 3 3 1 4 1 3 3 1 3 2 2 3 3 2 2 1 2 1 1 1 4 1 1 3 2 3 3 3 3 1 3 2 5 3 3 3 3 1 2 2 3 2 4 2 4 3 3 6 2 1 4 2 1 2 2 1 1 1 4 3 3 3 1 2 1 2 2 2 5 3 3 6 2 5 3 2 2 2 1 3 3 1 1 0 2 2 4 3 1 2 2 3 2 2 4 3 2 4 3 2 4 2 2 2 1 2 1 2 4 4 2 0 3 4 2 0 3 2 1 1 2 5 0 2 2 0 0 1 2 1 1 1 2 3 2 3 3 3 4 6 0 1 3 4 3 2 4 3 1 1 5 1 4 3 1 4 3 5 3 2 4 2 2 0 3 1 4 1 3 3 2 2 2 3 3 3 3 5 1 2 2 3 3 3 2 3 4 2 3 3 1 2 3 2 2 2 3 5 4 6 1 6 1 1 3 6 3 2 3 1 4 2 2 2 2 1 5 5 2 2 1 4 4 4 1 4 5 1 2 2 3 1 5 2 3 0 3 2 2 2 1 3 1 1 1 4 0 1 2 3 4 4 4 3 3 2 6 6 3 1 2 4 2 3 1 3 0 2 1 2 2 2 2 2 2 2 0 1 3 1 3 2 3 3 2 4 3 2 3 1 2 1 2 5 2 1 2 5 3 3 3 2 0 1 2 4 2 0 2 3 2 2 3 2 1 4 5 2 1 1 4 1 3 2 2 4 3 2 0 2 5 1 3 2 3 4 1 1 2 3 4 0 2 3 5 4 2 0 1 2 2 2 4 2 5 3 3 2 2 3 3 3 3 5 0 1 3 2 6 3 2 4 3 1 3 5 3 1 2 0 2 1 2 4 0 4 2 4 0 3 3 2 2 1 1 2 5 2 2 2 2 3 4 3 3 2 4 4 2 5 2 3 4 2 2 2 2 6 4 1 4 4 0 4 4 0 2 4 3 2 2 1 5 5 2 2 2 4 3 1 2 3 2 4 4 1 3 3 3 3 2 2 2 3 1 6 1 1 5 4 4 3 1 2 1 2 2 2 3 4 4 2 1 0 4 1 3 4 2 2 4 1 5 1 1 4 2 4 3 2 2 1 4 4 4 3 0 3 0 2 2 1 1 4 2 4 4 5 1 1 3 5 4 2 5 2 4 3 2 1 3 1 5 4 4 2 2 4 4 3 2 2 2 3 3 2 1 1 3 4 4 2 3 4 2 2 2 2 2 3 4 5 3 3 2 1 2 1 2 0 2 2 4 6 2 2 2 4 1 3 2 2 1 3 2 4 2 2 0 0 2 2 5 2 3 1 1 2 3 3 3 2 2 1 1 4 2 4 7 2 1 6 3 4 2 2 3 3 1 4 3 0 0 2 5 2 1 4 3 2 3 3 3 3 4 2 2 0 2 3 1 3 2 4 3 2 2 3 4 3 2 0 5 5 1 3 1 2 2 2 1 1 4 3 2 2 3 2 1 7 2 4 2 5 2 2 5 3 3 1 4 4 2 1 5 5 0 1 1 3 3 1 1 1 2 3 1 3 1 2 4 0 3 2 1 3 4 1 1 4 2 0 3 1 1 1 5 4 2 3 1 2 2 1 3 4 1 4 2 2 3 3 4 2 1 1 6 2 0 5 4 2 4 6 2 2 2 3 3 3 2 2 2 3 3 2 5 4 4 5 4 3 3 4 4 3 3 6 2 2 3 1 1 2 2 2 1 1 2 5 4 3 2 3 2 1 2 1 3 3 2 3 2 2 5 3 2 3 3 2 1 3 1 3 4 3 4 5 3 2 2 3 3 3 0 2 1 0 4 1 3 4 2 0 2 3 1 1 4 1 2 4 2 3 2 1 4 2 1 2 1 3 3 2 3 2 3 2 1 6 2 1 5 3 2 1 2 2 1 2 3 2 3 2 3 2 3 2 5 6 5 4 5 3 3 5 2 1 2 0 0 2 1 3 1 0 2 6 1 1 3 3 4 3 1 2 3 2 2\n",
      "G: 2 2 2 3 2 5 2 4 3 5 1 0 3 2 3 4 5 1 1 4 2 4 2 5 4 3 2 2 5 5 4 2 2 2 1 1 3 3 1 3 4 2 4 5 3 2 3 1 2 3 3 2 3 2 4 3 1 5 4 1 2 3 3 1 2 4 4 3 1 1 3 2 3 0 2 2 2 4 4 2 6 3 3 3 1 3 1 1 4 1 0 4 3 1 5 3 2 1 3 3 5 3 2 3 2 3 4 1 0 5 2 4 2 5 2 4 4 2 3 1 2 3 2 2 7 1 1 3 1 4 2 3 2 2 2 2 2 2 1 3 0 2 2 5 3 3 2 4 3 1 2 4 3 4 1 3 3 4 1 1 2 1 4 3 3 4 2 3 0 3 3 3 1 6 3 1 5 3 1 1 1 3 4 0 2 2 4 2 2 4 1 1 3 2 3 2 2 1 3 3 5 3 2 1 1 1 4 1 3 1 1 4 1 3 0 5 5 2 0 5 4 2 2 2 2 0 1 0 1 2 2 2 3 0 0 0 1 5 2 4 1 4 4 4 0 0 4 3 3 2 3 3 4 2 2 6 3 6 2 3 3 2 3 3 3 0 4 2 4 3 4 4 2 2 2 3 3 3 2 1 2 1 2 1 1 0 3 3 1 0 0 1 4 2 4 4 1 5 1 2 0 2 4 4 3 3 1 3 3 3 2 0 3 0 5 2 3 2 4 5 4 1 5 5 2 3 4 3 2 5 5 3 2 2 2 3 3 2 3 2 3 0 4 3 1 2 1 2 2 3 0 4 0 2 1 5 3 1 1 3 1 0 0 1 4 3 2 5 2 2 2 4 2 3 1 1 3 2 2 4 4 4 1 3 3 1 2 3 2 2 4 1 4 4 1 2 1 4 4 5 3 3 4 0 1 4 3 5 3 6 2 1 5 3 1 4 4 2 1 3 3 3 2 3 2 3 2 4 3 3 1 6 4 1 2 0 2 1 2 1 2 1 1 2 1 1 3 0 4 2 3 2 3 6 2 2 3 2 2 4 1 2 1 3 4 2 1 3 3 4 3 0 2 2 2 2 4 2 3 1 1 2 4 2 3 5 3 2 2 3 2 5 1 2 0 4 3 0 4 3 2 2 4 2 3 1 4 2 1 2 2 2 2 2 2 2 2 2 2 1 2 0 3 3 3 3 4 3 4 2 1 5 4 1 1 0 0 6 1 3 1 1 1 3 1 1 1 5 1 2 2 3 1 4 2 0 3 1 4 3 1 1 2 4 3 4 3 1 1 3 3 0 2 3 2 4 3 1 2 1 3 2 1 3 2 2 5 5 2 4 3 3 2 0 3 1 3 5 1 1 3 2 3 2 3 2 4 3 2 4 0 3 2 3 3 1 4 3 2 4 2 3 2 1 4 3 1 2 3 3 2 1 2 2 2 2 3 1 3 4 4 3 2 3 2 1 0 1 4 2 4 3 1 2 3 5 1 2 4 3 3 1 5 2 1 2 1 4 3 3 2 2 3 1 1 2 5 2 3 5 2 4 4 3 2 3 5 1 3 2 2 1 5 2 1 3 3 4 2 1 4 2 1 2 3 4 3 3 0 6 4 3 3 2 2 1 3 2 2 5 2 0 3 3 3 1 6 3 3 3 3 4 1 3 3 2 2 2 4 2 2 4 1 1 2 5 2 1 1 5 3 3 3 4 1 0 3 2 2 2 0 0 5 2 2 1 5 2 3 1 4 5 3 3 3 4 3 3 2 4 0 2 2 3 3 1 3 3 3 2 3 5 2 3 4 5 5 1 1 3 1 4 2 4 2 1 2 4 1 2 2 2 1 1 1 3 2 5 2 1 4 2 3 3 2 1 1 4 1 5 3 4 4 2 4 3 5 5 3 3 1 1 2 3 0 4 1 1 2 0 1 3 4 4 3 0 4 4 2 1 3 1 3 5 3 3 1 2 2 2 2 4 4 3 4 4 1 1 3 2 2 4 2 3 2 2 1 3 0 3 1 3 5 1 3 1 3 4 1 1 2 1 5 2 3 2 3 3 2 3 2 4 2 3 3 6 1\n",
      "T: 3 1 3 3 0 2 1 1 3 3 1 2 4 4 1 2 2 1 4 0 3 3 2 1 2 1 1 1 1 0 4 2 4 1 5 2 2 2 4 3 1 1 1 1 2 4 3 3 2 3 4 4 1 5 1 3 2 4 2 4 0 4 2 4 4 2 2 1 2 3 1 3 2 4 1 2 4 2 0 4 0 0 1 2 3 4 3 2 1 2 5 2 1 2 3 3 1 3 3 1 2 2 3 4 6 1 2 3 4 3 3 4 3 2 4 2 2 5 2 3 3 1 1 2 0 1 1 3 4 1 2 2 3 3 4 3 1 0 6 3 5 3 2 2 2 3 5 1 0 3 4 2 2 3 4 5 4 2 6 1 3 3 0 0 2 2 2 0 3 3 4 2 3 2 1 1 2 3 1 5 2 2 1 2 2 2 2 2 2 0 4 2 3 3 2 1 3 3 1 1 1 1 2 1 3 4 1 2 1 2 3 3 3 2 5 1 1 3 4 1 2 4 2 3 2 4 3 3 4 0 7 6 3 2 5 5 1 3 3 3 4 2 2 4 3 1 2 4 2 0 1 3 4 2 0 1 3 1 1 3 2 3 1 1 2 5 3 2 4 3 1 1 5 1 3 1 2 3 2 3 2 4 3 4 1 1 2 3 3 3 3 3 3 4 4 2 3 0 4 6 4 2 3 4 3 4 4 2 1 4 2 3 3 2 1 2 2 3 1 3 2 3 2 1 2 1 1 3 2 1 1 3 1 1 3 4 2 2 3 3 2 4 2 1 2 3 4 2 1 3 3 1 6 2 1 3 1 2 2 4 4 4 3 4 2 2 2 1 3 3 4 1 3 2 4 4 3 1 4 1 1 2 3 2 3 5 4 3 1 2 1 0 5 1 3 4 0 3 1 0 2 3 0 2 2 1 1 1 4 2 4 4 1 1 2 0 3 2 5 3 3 2 4 1 3 2 3 1 2 2 3 1 2 2 3 4 6 1 4 2 1 2 0 2 4 2 1 5 1 2 4 2 0 1 3 4 2 3 4 2 3 0 5 4 2 3 2 3 2 2 2 4 3 4 2 2 1 2 2 5 4 1 3 0 3 1 1 2 0 3 3 1 3 2 3 2 1 3 1 3 5 7 1 4 1 2 1 5 4 5 1 3 4 2 5 1 2 2 2 2 3 4 1 3 3 3 3 3 2 4 1 0 1 0 2 3 5 0 4 1 2 4 0 2 2 4 7 2 3 2 1 2 3 2 5 3 1 4 3 2 6 3 3 2 3 4 1 3 2 4 1 3 3 4 6 2 4 6 4 2 0 3 6 2 4 4 1 1 3 3 2 1 0 4 2 1 5 1 5 3 3 4 1 3 3 4 2 4 4 1 2 1 4 2 4 6 2 2 3 3 2 4 3 2 3 0 0 3 2 1 2 1 3 4 4 2 3 1 2 3 3 1 1 2 2 3 5 3 1 4 0 2 3 2 4 1 3 1 1 3 0 2 2 4 4 0 2 2 2 3 2 2 2 3 5 2 2 4 3 1 1 2 2 3 2 3 2 0 1 2 4 2 1 4 2 1 3 1 3 2 2 6 3 0 4 2 6 3 5 1 1 3 5 4 5 4 5 3 1 2 3 5 3 2 1 4 1 2 1 5 1 3 4 0 0 3 3 4 4 3 4 0 3 3 2 0 4 3 5 1 2 4 1 5 2 5 4 1 3 3 2 4 1 3 4 2 1 2 3 4 3 1 2 4 0 1 1 1 1 0 3 3 3 2 2 2 1 3 2 6 3 1 2 1 2 4 1 2 3 2 3 2 4 1 4 3 3 1 3 2 3 3 2 3 4 2 2 1 5 2 2 1 2 3 3 2 4 3 3 0 2 2 4 3 3 5 1 0 1 3 3 7 5 2 3 4 5 7 5 4 3 1 2 2 2 5 3 1 3 3 0 2 3 0 4 1 2 1 3 2 0 2 3 3 2 0 5 2 2 3 2 1 1 1 2 4 1 1 2 2 3 2 1 3 4 4 3 2 7 1 3 3 2 5 3 1 3 2 2 1 2 3 2 3 1 0 4\n"
     ]
    }
   ],
   "source": [
    "def profile(matrix):\n",
    "    strings = matrix.split()\n",
    "\n",
    "    default = [0] * len(strings[0])\n",
    "    results = {\n",
    "        'A': default[:],\n",
    "        'C': default[:],\n",
    "        'G': default[:],\n",
    "        'T': default[:],\n",
    "    }\n",
    "\n",
    "    for s in strings:\n",
    "        for i, c in enumerate(s):\n",
    "            results[c][i] += 1\n",
    "\n",
    "    return results\n",
    "\n",
    "\n",
    "def consensus(profile):\n",
    "    result = []\n",
    "\n",
    "    keys = list(profile.keys())\n",
    "\n",
    "    for i in range(len(profile[keys[0]])):\n",
    "        max_v = 0\n",
    "        max_k = None\n",
    "        for k in keys:\n",
    "            v = profile[k][i]\n",
    "            if v > max_v:\n",
    "                max_v = v\n",
    "                max_k = k\n",
    "        result.append(max_k)\n",
    "\n",
    "    return ''.join(result)\n",
    "\n",
    "\n",
    "if __name__ == \"__main__\":\n",
    "\n",
    "    small_dataset = \"\"\"\n",
    "                    ATCCAGCT\n",
    "                    GGGCAACT\n",
    "                    ATGGATCT\n",
    "                    AAGCAACC\n",
    "                    TTGGAACT\n",
    "                    ATGCCATT\n",
    "                    ATGGCACT\n",
    "                    \"\"\"\n",
    "\n",
    "    large_dataset = open('/home/fraroco/MEGA/Rosalind/rosalind_cons.txt').read()\n",
    "\n",
    "    p = profile(large_dataset)\n",
    "    c = consensus(p)\n",
    "\n",
    "    print(c)\n",
    "    for k in sorted(p.keys()):\n",
    "        print (\"%s: %s\" % (k, ' '.join(map(str, p[k]))))"
   ]
  },
  {
   "cell_type": "code",
   "execution_count": null,
   "metadata": {},
   "outputs": [],
   "source": []
  },
  {
   "cell_type": "code",
   "execution_count": null,
   "metadata": {},
   "outputs": [],
   "source": []
  }
 ],
 "metadata": {
  "kernelspec": {
   "display_name": "Python 3",
   "language": "python",
   "name": "python3"
  },
  "language_info": {
   "codemirror_mode": {
    "name": "ipython",
    "version": 3
   },
   "file_extension": ".py",
   "mimetype": "text/x-python",
   "name": "python",
   "nbconvert_exporter": "python",
   "pygments_lexer": "ipython3",
   "version": "3.7.0"
  }
 },
 "nbformat": 4,
 "nbformat_minor": 2
}
