{
 "cells": [
  {
   "cell_type": "code",
   "execution_count": 25,
   "metadata": {},
   "outputs": [
    {
     "name": "stdout",
     "output_type": "stream",
     "text": [
      "215 202 188 206\n"
     ]
    }
   ],
   "source": [
    "#DNA\n",
    "\n",
    "DNA = \"AAAACCAAGACCGCCCCAGCCTACAAATTAGCTTGGATCCGTCCACGCTTCAAGTAATATTCTCAACTGGCCAGCGACCACCGGGCTGATGGGCCGTGTCACGCCGGTGATACCTTCTTGGTATCCGGAGACTTCAACACCTCTTATCCTGTTGGGTTTGCCTCGTATTTTGGCAACGACAGATGGAGAAGTTTTCCGTTACGGGATTCTCCAGCCTAACAGTGTAAAGTAGCTTGTTTTTAATGAGAGTCGAGTTCAGCCGTTTTTACGTCGAAAAATCGGCACATATAGTAAGTGTAAGCGACAGTCAGACCCGCTTTTGTGTCGCTACAGTTCACGGCTCTCAATCTAGTCCGGTGGTCGACTAACCAACCGTTCTGATACGGAGCTAATCTTTGTGTAATCGCAATACGCATAGTATGACCACCAGAGACCGAGACTAAAGGCACCCCGTCGAGACCAACAGGAGCATGTCTTGAAGGCGGTCCATCAGCCCTGTTACCCGCTTGAAGTTTGCTACAGGTTGGAATTCTGAGTGACGAAACCATTGGATTACTCCGGGGAAGCATCTGACTCGAAAGTCATGGACATTGGTAAGGATCTCTCATAGGCGCGTCTAATGGAAAAGGAATACCTTGACCTCCTACACAACATCTCCGCCTTTTTAATCTGGCCAAGTAGATCTGAACAAAGGGGTTTACGTATCGTCGCTATAGCAGTATAATGCACGTTGTTCACTACTACGCGCATGAACTTGATGAAGCTGAGAGTTCAATCAAAGCAACGACTCTAGTAGCTCAACCGGAGTCAC\"\n",
    "print(str(DNA.count(\"A\")) + \" \" + str(DNA.count(\"C\")) + \" \" + str(DNA.count(\"G\")) + \" \" + str(DNA.count(\"T\")))\n"
   ]
  },
  {
   "cell_type": "code",
   "execution_count": 23,
   "metadata": {},
   "outputs": [],
   "source": []
  }
 ],
 "metadata": {
  "kernelspec": {
   "display_name": "Python 3",
   "language": "python",
   "name": "python3"
  },
  "language_info": {
   "codemirror_mode": {
    "name": "ipython",
    "version": 3
   },
   "file_extension": ".py",
   "mimetype": "text/x-python",
   "name": "python",
   "nbconvert_exporter": "python",
   "pygments_lexer": "ipython3",
   "version": "3.7.0"
  }
 },
 "nbformat": 4,
 "nbformat_minor": 2
}
